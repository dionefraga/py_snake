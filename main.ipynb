{
 "cells": [
  {
   "cell_type": "code",
   "execution_count": 1,
   "id": "77df3c92-667e-4d97-9e67-d0d43d0bfd4a",
   "metadata": {
    "tags": []
   },
   "outputs": [
    {
     "name": "stdout",
     "output_type": "stream",
     "text": [
      "importing Jupyter notebook from snake.ipynb\n",
      "importing Jupyter notebook from food.ipynb\n",
      "importing Jupyter notebook from scoreboard.ipynb\n",
      "bateu no rabo -69.99999999999994,-70.0 / -59.99999999999995,-70.0 \n"
     ]
    }
   ],
   "source": [
    "import import_ipynb\n",
    "from turtle import Screen, Turtle\n",
    "import time\n",
    "from snake import Snake\n",
    "from food import Food\n",
    "from scoreboard import Scoreboard\n",
    "\n",
    "\n",
    "screen = Screen()\n",
    "screen.setup(600,600)\n",
    "screen.bgcolor(\"black\")\n",
    "screen.title(\"My snake game\")\n",
    "screen.tracer(0)\n",
    "\n",
    "snake = Snake()\n",
    "food = Food()\n",
    "scoreboard = Scoreboard()\n",
    "\n",
    "screen.listen()\n",
    "screen.onkey(snake.up, \"Up\")\n",
    "screen.onkey(snake.left, \"Left\")\n",
    "screen.onkey(snake.down, \"Down\")\n",
    "screen.onkey(snake.right, \"Right\")\n",
    "\n",
    "\n",
    "\n",
    "game_is_on = True\n",
    "while game_is_on:   \n",
    "\n",
    "    screen.update()\n",
    "    time.sleep(0.1)\n",
    "    snake.move()\n",
    "\n",
    "    # colision with food\n",
    "    if snake.head.distance(food) < 15:\n",
    "        food.refresh()\n",
    "        scoreboard.increase_score()\n",
    "        snake.extend()\n",
    "        \n",
    "    # colision with wall\n",
    "    if snake.head.xcor() > 280 or snake.head.xcor() < -280 or snake.head.ycor() > 280 or snake.head.ycor() < -280:\n",
    "        game_is_on = False\n",
    "        scoreboard.game_over()\n",
    "        print(\"bateu na parede\")\n",
    "        \n",
    "    # colision with tail\n",
    "    for segment in snake.snake_body[1:]:\n",
    "        if snake.head.distance(segment) < 10:\n",
    "            game_is_on = False\n",
    "            scoreboard.game_over()\n",
    "            print(f\"bateu no rabo {snake.head.xcor()},{snake.head.ycor()} / {segment.xcor()},{segment.ycor()} \")\n",
    "        \n",
    "\n",
    "screen.exitonclick()"
   ]
  },
  {
   "cell_type": "code",
   "execution_count": null,
   "id": "abd1f856-899b-40a3-8cb3-102f52a29c93",
   "metadata": {
    "tags": []
   },
   "outputs": [],
   "source": []
  },
  {
   "cell_type": "code",
   "execution_count": null,
   "id": "1e8abfe4-457b-4ac7-a684-09b29e99f8bb",
   "metadata": {},
   "outputs": [],
   "source": []
  }
 ],
 "metadata": {
  "kernelspec": {
   "display_name": "Python 3 (ipykernel)",
   "language": "python",
   "name": "python3"
  },
  "language_info": {
   "codemirror_mode": {
    "name": "ipython",
    "version": 3
   },
   "file_extension": ".py",
   "mimetype": "text/x-python",
   "name": "python",
   "nbconvert_exporter": "python",
   "pygments_lexer": "ipython3",
   "version": "3.9.13"
  },
  "toc-autonumbering": true,
  "toc-showmarkdowntxt": true,
  "toc-showtags": true
 },
 "nbformat": 4,
 "nbformat_minor": 5
}
