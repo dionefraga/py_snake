{
 "cells": [
  {
   "cell_type": "code",
   "execution_count": 10,
   "id": "e1865837-3060-4377-a080-5cdb5c4b2c1a",
   "metadata": {},
   "outputs": [],
   "source": [
    "from turtle import Turtle\n",
    "ALIGN = \"center\"\n",
    "FONT = (\"Arial\", \"24\", \"normal\")\n",
    "\n",
    "class Scoreboard(Turtle):\n",
    "    \n",
    "    def __init__(self):\n",
    "        super().__init__()\n",
    "        self.score = 0\n",
    "        self.color(\"white\")\n",
    "        self.hideturtle()\n",
    "        self.penup()\n",
    "        self.speed(\"fastest\")\n",
    "        self.goto(0,270)\n",
    "        self.update_score()\n",
    "        \n",
    "    \n",
    "    def update_score(self):\n",
    "        self.write(f\"Score: {self.score}\", align = ALIGN, font = FONT)\n",
    "        \n",
    "    \n",
    "    def increase_score(self):\n",
    "        self.score += 1\n",
    "        self.clear()\n",
    "        self.update_score()\n",
    "        \n",
    "    def game_over(self):\n",
    "        self.goto(0,0)\n",
    "        self.write(\"Game Over\", align = ALIGN, font = FONT)\n",
    "        "
   ]
  },
  {
   "cell_type": "code",
   "execution_count": null,
   "id": "62996809-e3a7-4065-b05c-201528b4d218",
   "metadata": {},
   "outputs": [],
   "source": []
  }
 ],
 "metadata": {
  "kernelspec": {
   "display_name": "Python 3 (ipykernel)",
   "language": "python",
   "name": "python3"
  },
  "language_info": {
   "codemirror_mode": {
    "name": "ipython",
    "version": 3
   },
   "file_extension": ".py",
   "mimetype": "text/x-python",
   "name": "python",
   "nbconvert_exporter": "python",
   "pygments_lexer": "ipython3",
   "version": "3.9.13"
  }
 },
 "nbformat": 4,
 "nbformat_minor": 5
}
