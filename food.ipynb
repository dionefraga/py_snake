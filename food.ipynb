{
 "cells": [
  {
   "cell_type": "code",
   "execution_count": 3,
   "id": "f7cd7767-d160-4b76-bada-6c53a9138df1",
   "metadata": {},
   "outputs": [],
   "source": [
    "from turtle import Turtle\n",
    "import random\n",
    "\n",
    "class Food(Turtle):\n",
    "    \n",
    "    def __init__(self):\n",
    "        super().__init__()\n",
    "        self.shape(\"circle\")\n",
    "        self.penup()\n",
    "        self.shapesize(0.5,0.5)\n",
    "        self.color(\"green\")\n",
    "        self.speed(\"fastest\")\n",
    "        self.refresh()\n",
    "\n",
    "    def refresh(self):\n",
    "        x = random.randint(-280,280)\n",
    "        y = random.randint(-280,280)\n",
    "        self.goto(x, y)\n"
   ]
  },
  {
   "cell_type": "code",
   "execution_count": 2,
   "id": "59afe646-10f4-40a9-8522-ff0337abdf94",
   "metadata": {},
   "outputs": [
    {
     "name": "stdout",
     "output_type": "stream",
     "text": [
      "criei\n"
     ]
    }
   ],
   "source": []
  },
  {
   "cell_type": "code",
   "execution_count": null,
   "id": "478b0e94-0351-49d2-aebd-f6f2bb109252",
   "metadata": {},
   "outputs": [],
   "source": []
  }
 ],
 "metadata": {
  "kernelspec": {
   "display_name": "Python 3 (ipykernel)",
   "language": "python",
   "name": "python3"
  },
  "language_info": {
   "codemirror_mode": {
    "name": "ipython",
    "version": 3
   },
   "file_extension": ".py",
   "mimetype": "text/x-python",
   "name": "python",
   "nbconvert_exporter": "python",
   "pygments_lexer": "ipython3",
   "version": "3.9.13"
  }
 },
 "nbformat": 4,
 "nbformat_minor": 5
}
